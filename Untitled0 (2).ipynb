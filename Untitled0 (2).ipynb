{
  "nbformat": 4,
  "nbformat_minor": 0,
  "metadata": {
    "colab": {
      "name": "Untitled0.ipynb",
      "provenance": []
    },
    "kernelspec": {
      "name": "python3",
      "display_name": "Python 3"
    },
    "language_info": {
      "name": "python"
    }
  },
  "cells": [
    {
      "cell_type": "code",
      "source": [
        "#Question1\n",
        "Name = input(\"Please enter your name : \")\n",
        "Surname = input(\"Please enter your last name : \")\n",
        "print(Surname, Name)"
      ],
      "metadata": {
        "id": "yIuMnnC-t_KL"
      },
      "execution_count": null,
      "outputs": []
    },
    {
      "cell_type": "code",
      "source": [
        "x = 5 ; b = 3 ; y =5/2 ; a = True ; z = \"Welcome to Python\" ; f=[1,2,3,4,5,6,7,8,9,] ; g = 5.7 ; str1=\"5\" ; str2 = \"Bonjour\"\n",
        "print(type(x))\n",
        "print(type(y))\n",
        "print(type(z))\n",
        "print(type(a))\n",
        "print(x//b)\n",
        "print(x/b)\n",
        "print(x**b)\n",
        "print(b<=x)\n",
        "print(x==b)\n",
        "print(x!=b)\n",
        "print(b>=x)\n",
        "print(len(z))\n",
        "print(7in f)\n",
        "print(not 6 in f)\n",
        "print(int(g))\n",
        "print(round(g))\n",
        "g= str(g)\n",
        "print(g)\n",
        "print(type(g))\n",
        "print(int(str1))\n",
        "num = -9\n",
        "if num>0 :\n",
        "  print(num,\"The number is positive\")\n",
        "print(\"This is always printed\")\n",
        "print(num)\n",
        "print('num')\n",
        "print(\"num\")\n",
        "print(\"Le numero est :\", g)\n",
        "for 3 in f : # indentation c'est l'espace dans le if"
      ],
      "metadata": {
        "colab": {
          "base_uri": "https://localhost:8080/"
        },
        "id": "pf8kx0Yta1Bj",
        "outputId": "5e6be49d-74a1-42fd-c1f5-d8a3c4bc1f5f"
      },
      "execution_count": 43,
      "outputs": [
        {
          "output_type": "stream",
          "name": "stdout",
          "text": [
            "<class 'int'>\n",
            "<class 'float'>\n",
            "<class 'str'>\n",
            "<class 'bool'>\n",
            "1\n",
            "1.6666666666666667\n",
            "125\n",
            "True\n",
            "False\n",
            "True\n",
            "False\n",
            "17\n",
            "True\n",
            "False\n",
            "5\n",
            "6\n",
            "5.7\n",
            "<class 'str'>\n",
            "5\n",
            "This is always printed\n",
            "-9\n",
            "num\n",
            "num\n",
            "Le numero est : 5.7\n"
          ]
        }
      ]
    },
    {
      "cell_type": "code",
      "source": [
        "#Question2\n",
        "n=5\n",
        "n+n*11+n*111"
      ],
      "metadata": {
        "colab": {
          "base_uri": "https://localhost:8080/"
        },
        "id": "-3zZYQzAdYhv",
        "outputId": "fa3f6919-a977-4b50-8762-a49101149167"
      },
      "execution_count": null,
      "outputs": [
        {
          "output_type": "execute_result",
          "data": {
            "text/plain": [
              "615"
            ]
          },
          "metadata": {},
          "execution_count": 46
        }
      ]
    },
    {
      "cell_type": "code",
      "source": [
        "#Question3\n",
        "N = int(input(\"Please enter a number : \"))\n",
        "if N%2==0:\n",
        "  print(N,\"is an even\")\n",
        "else  :\n",
        "  print(N,\"is an odd\")"
      ],
      "metadata": {
        "colab": {
          "base_uri": "https://localhost:8080/"
        },
        "id": "QKWvplePh0d1",
        "outputId": "a2fc3d2c-473d-445d-da27-069356be4c39"
      },
      "execution_count": 34,
      "outputs": [
        {
          "output_type": "stream",
          "name": "stdout",
          "text": [
            "Please enter a number : 98\n",
            "98 is an even\n"
          ]
        }
      ]
    },
    {
      "cell_type": "code",
      "source": [
        "#Question4\n",
        "for i in range(2000,3200):\n",
        "  if i%7 == 0 and i%5 != 0:\n",
        "    print(i)  "
      ],
      "metadata": {
        "colab": {
          "base_uri": "https://localhost:8080/"
        },
        "id": "tDnRBuPNXGC7",
        "outputId": "e620824e-ddd4-41f9-fe33-d19aca8eec93"
      },
      "execution_count": null,
      "outputs": [
        {
          "output_type": "stream",
          "name": "stdout",
          "text": [
            "2002\n",
            "2009\n",
            "2016\n",
            "2023\n",
            "2037\n",
            "2044\n",
            "2051\n",
            "2058\n",
            "2072\n",
            "2079\n",
            "2086\n",
            "2093\n",
            "2107\n",
            "2114\n",
            "2121\n",
            "2128\n",
            "2142\n",
            "2149\n",
            "2156\n",
            "2163\n",
            "2177\n",
            "2184\n",
            "2191\n",
            "2198\n",
            "2212\n",
            "2219\n",
            "2226\n",
            "2233\n",
            "2247\n",
            "2254\n",
            "2261\n",
            "2268\n",
            "2282\n",
            "2289\n",
            "2296\n",
            "2303\n",
            "2317\n",
            "2324\n",
            "2331\n",
            "2338\n",
            "2352\n",
            "2359\n",
            "2366\n",
            "2373\n",
            "2387\n",
            "2394\n",
            "2401\n",
            "2408\n",
            "2422\n",
            "2429\n",
            "2436\n",
            "2443\n",
            "2457\n",
            "2464\n",
            "2471\n",
            "2478\n",
            "2492\n",
            "2499\n",
            "2506\n",
            "2513\n",
            "2527\n",
            "2534\n",
            "2541\n",
            "2548\n",
            "2562\n",
            "2569\n",
            "2576\n",
            "2583\n",
            "2597\n",
            "2604\n",
            "2611\n",
            "2618\n",
            "2632\n",
            "2639\n",
            "2646\n",
            "2653\n",
            "2667\n",
            "2674\n",
            "2681\n",
            "2688\n",
            "2702\n",
            "2709\n",
            "2716\n",
            "2723\n",
            "2737\n",
            "2744\n",
            "2751\n",
            "2758\n",
            "2772\n",
            "2779\n",
            "2786\n",
            "2793\n",
            "2807\n",
            "2814\n",
            "2821\n",
            "2828\n",
            "2842\n",
            "2849\n",
            "2856\n",
            "2863\n",
            "2877\n",
            "2884\n",
            "2891\n",
            "2898\n",
            "2912\n",
            "2919\n",
            "2926\n",
            "2933\n",
            "2947\n",
            "2954\n",
            "2961\n",
            "2968\n",
            "2982\n",
            "2989\n",
            "2996\n",
            "3003\n",
            "3017\n",
            "3024\n",
            "3031\n",
            "3038\n",
            "3052\n",
            "3059\n",
            "3066\n",
            "3073\n",
            "3087\n",
            "3094\n",
            "3101\n",
            "3108\n",
            "3122\n",
            "3129\n",
            "3136\n",
            "3143\n",
            "3157\n",
            "3164\n",
            "3171\n",
            "3178\n",
            "3192\n",
            "3199\n"
          ]
        }
      ]
    },
    {
      "cell_type": "code",
      "source": [
        "#Question5\n",
        "N = 1\n",
        "i = int()\n",
        "for i in range(1,9):\n",
        " N = N*i\n",
        " print(N)\n"
      ],
      "metadata": {
        "colab": {
          "base_uri": "https://localhost:8080/"
        },
        "id": "vhKUekKL8Gqw",
        "outputId": "d0d98d30-35d9-447e-8c6a-5f9f903d4c24"
      },
      "execution_count": null,
      "outputs": [
        {
          "output_type": "stream",
          "name": "stdout",
          "text": [
            "1\n",
            "2\n",
            "6\n",
            "24\n",
            "120\n",
            "720\n",
            "5040\n",
            "40320\n"
          ]
        }
      ]
    },
    {
      "cell_type": "code",
      "source": [
        "#Question6\n",
        "my_string = str(input(\"Enter your text : \"))\n",
        "for i in range(0,len(my_string)) :\n",
        "  if i%2==0 :\n",
        "   print(my_string[i])\n",
        "  else :\n",
        "    print(\"\")\n"
      ],
      "metadata": {
        "colab": {
          "base_uri": "https://localhost:8080/"
        },
        "id": "Tqe_Kf4qe5tr",
        "outputId": "f46a3922-9e89-496b-8e4c-267e03dd312d"
      },
      "execution_count": null,
      "outputs": [
        {
          "output_type": "stream",
          "name": "stdout",
          "text": [
            "Enter your text : goodbye\n",
            "g\n",
            "\n",
            "o\n",
            "\n",
            "b\n",
            "\n",
            "e\n"
          ]
        }
      ]
    },
    {
      "cell_type": "code",
      "source": [
        "#Question7\n",
        "X = float(input(\"Enter the price here : \"))\n",
        "new_price = float()\n",
        "if X >=500 :\n",
        "    new_price = X - (X*50)/100\n",
        "    print(\"The new price is: \", new_price)\n",
        "elif 200 <= X < 500 :\n",
        "    new_price = X - (X*30)/100\n",
        "    print(\"The new price is: \", new_price)\n",
        "elif X < 200 :\n",
        "    new_price = X - (X*10)/100\n",
        "    print(\"The new price is: \", new_price)"
      ],
      "metadata": {
        "colab": {
          "base_uri": "https://localhost:8080/"
        },
        "id": "Hqpo2FVJIziX",
        "outputId": "3e2c9e5c-8259-4b47-ff95-8e50599da164"
      },
      "execution_count": null,
      "outputs": [
        {
          "output_type": "stream",
          "name": "stdout",
          "text": [
            "Enter the price here : 2000\n",
            "The new price is:  1000.0\n"
          ]
        }
      ]
    }
  ]
}